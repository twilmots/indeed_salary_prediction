{
 "cells": [
  {
   "cell_type": "markdown",
   "metadata": {},
   "source": [
    "# Webscraping and Salary Prediction Project\n",
    "\n",
    "The purpose of this project was to webscrape job listing information from Indeed and then run a model to predict if the salary would be HIGH or LOW. \n",
    "\n",
    "The below was the brief set for the project. My solution follows the brief. \n",
    "\n",
    "### Directive\n",
    "\n",
    "You're working as a data scientist for a contracting firm that's rapidly expanding. Now that they have their most valuable employee (you!), they need to leverage data to win more contracts. Your firm offers technology and scientific solutions and wants to be competitive in the hiring market. Your principal wants you to\n",
    "\n",
    "   - determine the industry factors that are most important in predicting the salary amounts for these data.\n",
    "\n",
    "To limit the scope, your principal has suggested that you *focus on data-related job postings*, e.g. data scientist, data analyst, research scientist, business intelligence, and any others you might think of. You may also want to decrease the scope by *limiting your search to a single region.*\n",
    "\n",
    "Hint: Aggregators like [Indeed.com](https://www.indeed.com) regularly pool job postings from a variety of markets and industries.\n",
    "\n",
    "**Goal:** Scrape your own data from a job aggregation tool like Indeed.com in order to collect the data to best answer this question.\n",
    "\n",
    "---\n",
    "\n",
    "### My Results\n",
    "\n",
    "Our task was to scrape job information from Indeed across varying markets to try and predict whether a job would be classified as high salary or low salary. The Decision Tree Ensemble method was our most successful model achieving an accuracy score of 0.899% with strong generalization. \n",
    "\n",
    "#### Data Collection\n",
    "\n",
    "In order to gather our data, I built a custom webscraper to gather data from Indeed. We leveraged this data set for the modelling. \n",
    "\n",
    "#### Data Cleaning\n",
    "\n",
    "For the purpose of this task, we were only able to use data that had salary information in a yearly format. As such, we removed any rows with no salary information or salary information that was not yearly. Next, we turned the salary information into a integer that we could use for processing. In the instances where there was a salary range, we took the mean. \n",
    "\n",
    "After successfully cleaning the data, we turned our salary information into a target variable. As this was a classification problem, we wanted a threshold to determine if a salary was HIGH or LOW. To achieve this, we used the median salary of the entire data set. Our target variable was now a binary variable that was 1 of the salary of a specific job post was over the median, or 0 if it was below. \n",
    "\n",
    "With our data all ready to go, we were ready to undertake some feature engineering. \n",
    "\n",
    "#### Feature Engineering\n",
    "\n",
    "As a lot of our data was in text format, we took advantage of the TF-IDF method in Natural Language Processing. This method quantifies words in a document or corpus of text providing. This quantification allows us to feed this information into a classification model. We chose to leverage this method on the 'Location' data that we had available. \n",
    "\n",
    "In addition to applying TF-IDF to the 'Location' data, we generated key word features that looked through the 'Title' and 'Summary' of a job post and indicated if these contained any words that could indicate a higher paying job. For example in the title, we focused on words such as 'Senior', 'Manager' and 'Executive' as these are all titles held by individuals later in their career and could indicate a higher salary. These additional features proved valuable as running the model on just the 'Location' data yielded a lower score. \n",
    "\n",
    "#### Results\n",
    "\n",
    "Using the bagging method combined with a Decision Tree as the base estimator, we were able to achieve an accuracy of almost 90% with a strong level of generalization. This means our model does well on unseen data so would work as expected if we put it into production. Also, if the team is concerned about predicting a high salary when it ultimately isn't one, we can easily adjust our threshold and build this concern into our model. This will lead to more incorrect Low Salary predictions, but it will lower the instances where we predict a High Salary and it turns out to be a Low Salary. \n",
    "\n",
    "#### Risk & Limitations\n",
    "\n",
    "- Not all jobs had salary information, so we risk running our model on a subset of the types of jobs. \n",
    "- Our data also only focuses on the UK Data job market. So any predictions outside this scope is not advised. "
   ]
  },
  {
   "cell_type": "code",
   "execution_count": 1,
   "metadata": {},
   "outputs": [],
   "source": [
    "# importing all the necessary packages\n",
    "import requests\n",
    "import bs4\n",
    "from bs4 import BeautifulSoup\n",
    "import numpy as np\n",
    "import json\n",
    "import pandas as pd\n",
    "from sklearn.preprocessing import StandardScaler\n",
    "from sklearn.model_selection import cross_val_score, GridSearchCV, StratifiedKFold, train_test_split\n",
    "from sklearn.linear_model import LogisticRegression, LogisticRegressionCV, LinearRegression, RidgeClassifierCV\n",
    "from sklearn.neighbors import KNeighborsClassifier\n",
    "from sklearn.metrics import accuracy_score, auc, classification_report, plot_confusion_matrix, recall_score, precision_recall_curve, roc_auc_score, plot_roc_curve, plot_precision_recall_curve\n",
    "import re\n",
    "from sklearn.feature_extraction.text import TfidfVectorizer\n",
    "from sklearn.tree import DecisionTreeClassifier\n",
    "from sklearn.ensemble import BaggingClassifier\n",
    "import matplotlib.pyplot as plt"
   ]
  },
  {
   "cell_type": "markdown",
   "metadata": {},
   "source": [
    "### __1) Data Gathering and Cleaning__\n",
    "\n",
    "In order to webscrape the data from Indeed, I built some helper functions and leveraged them to iteratively collect data."
   ]
  },
  {
   "cell_type": "code",
   "execution_count": 2,
   "metadata": {},
   "outputs": [],
   "source": [
    "def extract_data(job, div):\n",
    "\n",
    "    try:\n",
    "        job['title'] = div.find('div', attrs = {'class': 'heading4 color-text-primary singleLineTitle tapItem-gutter'}).text.strip()\n",
    "    except:\n",
    "        job['title'] = np.nan\n",
    "\n",
    "    try:\n",
    "        job['companyName'] = div.find('span', attrs = {'class' : 'companyName'}).text.strip()\n",
    "    except:\n",
    "        job['companyName'] = np.nan\n",
    "\n",
    "    try:\n",
    "        job['rating'] = div.find('span', attrs = {'class': 'ratingsDisplay withRatingLink'}).text.strip()\n",
    "    except:\n",
    "        job['rating'] = np.nan\n",
    "\n",
    "    try:\n",
    "        job['location'] = div.find('div', attrs = {'class':'companyLocation'}).text.strip()\n",
    "    except:\n",
    "        job['location'] = np.nan\n",
    "\n",
    "    try:\n",
    "        job['summary'] = div.find('div', attrs = {'class':'job-snippet'}).text.strip()\n",
    "    except:\n",
    "        job['summary'] = np.nan\n",
    "\n",
    "    try:\n",
    "        job['salary'] = div.find('span', attrs = {'class':'salary-snippet'}).text.strip()\n",
    "    except:\n",
    "        job['salary'] = np.nan\n",
    "\n",
    "    return job"
   ]
  },
  {
   "cell_type": "code",
   "execution_count": null,
   "metadata": {},
   "outputs": [],
   "source": [
    "# Sample code of how indeed was scraped. The JSON was saved down as a csv file that we read in the next section. \n",
    "\n",
    "url_template = \"http://www.indeed.co.uk/jobs?q=data+scientist+%2420%2C000&l={}&start={}\"\n",
    "max_pages_per_city = 700 # Set this to a high-value (5000) to generate more results. \n",
    "\n",
    "results = []\n",
    "\n",
    "for city in set(['Bath', 'Belfast', 'Birmingham', 'Bristol', 'Cambridge', 'Cardiff', 'Edinburgh', 'Exeter', 'Glasgow', 'Leeds', 'Liverpool', 'London', 'Manchester', 'Newcastle', 'Oxford']):\n",
    "    for start in range(0, max_pages_per_city*10, 10):\n",
    "        url = url_template.format(city, start)\n",
    "        r = requests.get(url)\n",
    "        soup = BeautifulSoup(r.text, 'html.parser')\n",
    "\n",
    "        for div in soup.find_all('div', attrs = {'class': 'job_seen_beacon'}): # taking every single jop posting tile and iterating through them\n",
    "            job = dict() # creating a dictionary of all the job information that will be iteratively updated\n",
    "            job = extract_data(job, div) # calling the exctract data function to extrace required data from a single job posting\n",
    "            results.append(job)\n",
    "\n",
    "# saving all our data into a JSON that can easly be imported into a Pandas Dataframe\n",
    "\n",
    "with open('indeed_data.json', 'w') as file: \n",
    "    json.dump(results, file, sort_keys=True)\n",
    "    "
   ]
  },
  {
   "cell_type": "markdown",
   "metadata": {},
   "source": [
    "The above code snipet outlines how we scraped indeed. This process took a long time as the Indeed website blocked my IP Address so I had to re-route and mask myself using VPNs. This process resulted in a file that was saved down as a CSV that we are going to load here and move forward with. "
   ]
  },
  {
   "cell_type": "code",
   "execution_count": 18,
   "metadata": {},
   "outputs": [],
   "source": [
    "df = pd.read_csv('fr_raw_data_jobs_uk.csv')"
   ]
  },
  {
   "cell_type": "code",
   "execution_count": 19,
   "metadata": {},
   "outputs": [
    {
     "data": {
      "text/html": [
       "<div>\n",
       "<style scoped>\n",
       "    .dataframe tbody tr th:only-of-type {\n",
       "        vertical-align: middle;\n",
       "    }\n",
       "\n",
       "    .dataframe tbody tr th {\n",
       "        vertical-align: top;\n",
       "    }\n",
       "\n",
       "    .dataframe thead th {\n",
       "        text-align: right;\n",
       "    }\n",
       "</style>\n",
       "<table border=\"1\" class=\"dataframe\">\n",
       "  <thead>\n",
       "    <tr style=\"text-align: right;\">\n",
       "      <th></th>\n",
       "      <th>Unnamed: 0</th>\n",
       "      <th>Location</th>\n",
       "      <th>Title</th>\n",
       "      <th>Company</th>\n",
       "      <th>Salary</th>\n",
       "      <th>Description</th>\n",
       "      <th>City</th>\n",
       "      <th>jobs</th>\n",
       "    </tr>\n",
       "  </thead>\n",
       "  <tbody>\n",
       "    <tr>\n",
       "      <th>0</th>\n",
       "      <td>0</td>\n",
       "      <td>NaN</td>\n",
       "      <td>Business Intelligence Analyst</td>\n",
       "      <td>Dynamic Planner</td>\n",
       "      <td>£32,000 - £40,000 a year</td>\n",
       "      <td>Provision of accurate, accessible, and impactf...</td>\n",
       "      <td>Exeter</td>\n",
       "      <td>business+intelligence</td>\n",
       "    </tr>\n",
       "    <tr>\n",
       "      <th>1</th>\n",
       "      <td>1</td>\n",
       "      <td>NaN</td>\n",
       "      <td>Senior HR Advisor *Based in the South West* Pe...</td>\n",
       "      <td>Sitel</td>\n",
       "      <td>£26,000 - £28,000 a year</td>\n",
       "      <td>We offer benefits to keep you healthy and happ...</td>\n",
       "      <td>Exeter</td>\n",
       "      <td>business+intelligence</td>\n",
       "    </tr>\n",
       "    <tr>\n",
       "      <th>2</th>\n",
       "      <td>2</td>\n",
       "      <td>NaN</td>\n",
       "      <td>Business Development Executive</td>\n",
       "      <td>Sigma Software Distribution</td>\n",
       "      <td>£18,500 a year</td>\n",
       "      <td>Generate new business sales and opportunities:...</td>\n",
       "      <td>Exeter</td>\n",
       "      <td>business+intelligence</td>\n",
       "    </tr>\n",
       "    <tr>\n",
       "      <th>3</th>\n",
       "      <td>3</td>\n",
       "      <td>NaN</td>\n",
       "      <td>French Customer Service Advisor based in Exete...</td>\n",
       "      <td>Sitel</td>\n",
       "      <td>£10.50 an hour</td>\n",
       "      <td>We offer benefits to keep you healthy and happ...</td>\n",
       "      <td>Exeter</td>\n",
       "      <td>business+intelligence</td>\n",
       "    </tr>\n",
       "    <tr>\n",
       "      <th>4</th>\n",
       "      <td>4</td>\n",
       "      <td>NaN</td>\n",
       "      <td>German Customer Service Adviser based in Exete...</td>\n",
       "      <td>Sitel</td>\n",
       "      <td>£10.50 an hour</td>\n",
       "      <td>We offer benefits to keep you healthy and happ...</td>\n",
       "      <td>Exeter</td>\n",
       "      <td>business+intelligence</td>\n",
       "    </tr>\n",
       "  </tbody>\n",
       "</table>\n",
       "</div>"
      ],
      "text/plain": [
       "   Unnamed: 0 Location                                              Title  \\\n",
       "0           0      NaN                      Business Intelligence Analyst   \n",
       "1           1      NaN  Senior HR Advisor *Based in the South West* Pe...   \n",
       "2           2      NaN                     Business Development Executive   \n",
       "3           3      NaN  French Customer Service Advisor based in Exete...   \n",
       "4           4      NaN  German Customer Service Adviser based in Exete...   \n",
       "\n",
       "                       Company                    Salary  \\\n",
       "0              Dynamic Planner  £32,000 - £40,000 a year   \n",
       "1                        Sitel  £26,000 - £28,000 a year   \n",
       "2  Sigma Software Distribution            £18,500 a year   \n",
       "3                        Sitel            £10.50 an hour   \n",
       "4                        Sitel            £10.50 an hour   \n",
       "\n",
       "                                         Description    City  \\\n",
       "0  Provision of accurate, accessible, and impactf...  Exeter   \n",
       "1  We offer benefits to keep you healthy and happ...  Exeter   \n",
       "2  Generate new business sales and opportunities:...  Exeter   \n",
       "3  We offer benefits to keep you healthy and happ...  Exeter   \n",
       "4  We offer benefits to keep you healthy and happ...  Exeter   \n",
       "\n",
       "                    jobs  \n",
       "0  business+intelligence  \n",
       "1  business+intelligence  \n",
       "2  business+intelligence  \n",
       "3  business+intelligence  \n",
       "4  business+intelligence  "
      ]
     },
     "execution_count": 19,
     "metadata": {},
     "output_type": "execute_result"
    }
   ],
   "source": [
    "df.head()"
   ]
  },
  {
   "cell_type": "code",
   "execution_count": 20,
   "metadata": {},
   "outputs": [
    {
     "name": "stdout",
     "output_type": "stream",
     "text": [
      "<class 'pandas.core.frame.DataFrame'>\n",
      "RangeIndex: 83389 entries, 0 to 83388\n",
      "Data columns (total 8 columns):\n",
      " #   Column       Non-Null Count  Dtype \n",
      "---  ------       --------------  ----- \n",
      " 0   Unnamed: 0   83389 non-null  int64 \n",
      " 1   Location     75072 non-null  object\n",
      " 2   Title        83389 non-null  object\n",
      " 3   Company      83388 non-null  object\n",
      " 4   Salary       34923 non-null  object\n",
      " 5   Description  83389 non-null  object\n",
      " 6   City         83389 non-null  object\n",
      " 7   jobs         83389 non-null  object\n",
      "dtypes: int64(1), object(7)\n",
      "memory usage: 5.1+ MB\n"
     ]
    }
   ],
   "source": [
    "df.info()"
   ]
  },
  {
   "cell_type": "markdown",
   "metadata": {},
   "source": [
    "The next step required data cleaning and turning the salary information into a binary target variable\n",
    "\n",
    "To clean up the data: \n",
    "\n",
    "1. Only a small number of the scraped results have salary information - only these will be used for modeling.\n",
    "2. Some of the salaries are not yearly but hourly or weekly, these will not be useful to us for now.\n",
    "3. Some of the entries may be duplicated.\n",
    "4. The salaries are given as text and usually with ranges.\n",
    "\n"
   ]
  },
  {
   "cell_type": "code",
   "execution_count": 21,
   "metadata": {},
   "outputs": [
    {
     "name": "stdout",
     "output_type": "stream",
     "text": [
      "<class 'pandas.core.frame.DataFrame'>\n",
      "Int64Index: 27017 entries, 5 to 31093\n",
      "Data columns (total 7 columns):\n",
      " #   Column       Non-Null Count  Dtype  \n",
      "---  ------       --------------  -----  \n",
      " 0   Location     27017 non-null  object \n",
      " 1   Title        27017 non-null  object \n",
      " 2   Company      27017 non-null  object \n",
      " 3   Salary       27017 non-null  float64\n",
      " 4   Description  27017 non-null  object \n",
      " 5   City         27017 non-null  object \n",
      " 6   jobs         27017 non-null  object \n",
      "dtypes: float64(1), object(6)\n",
      "memory usage: 1.6+ MB\n"
     ]
    }
   ],
   "source": [
    "# dropping all rows where salar is NaN\n",
    "df = df[df['Salary'].notna()]\n",
    "\n",
    "# Pull out all those that are only yearly\n",
    "df = df[df.Salary.str.contains('year')]\n",
    "\n",
    "# Checking for duplicates\n",
    "df = df[~df.duplicated()].reset_index(drop=True)\n",
    "\n",
    "# Salary function and applying it to our salary column. Had to make a small change to use GBP instead of USD\n",
    "def salary(salary_string):\n",
    "    numbers = []\n",
    "    for item in salary_string.split():\n",
    "        item = item.replace(',', '')\n",
    "        item = item.replace('£', '')\n",
    "        if item.isdigit():\n",
    "            item = int(item)\n",
    "            numbers.append(item)\n",
    "    return np.mean(numbers)\n",
    "\n",
    "df.Salary = df.Salary.map(salary)\n",
    "\n",
    "# let us also drop the null values for location\n",
    "df = df[df['Location'].notna()]\n",
    "\n",
    "df.drop('Unnamed: 0', inplace=True, axis=1)\n",
    "\n",
    "df.info()"
   ]
  },
  {
   "cell_type": "markdown",
   "metadata": {},
   "source": [
    "Now that we have a cleaned data set we can create the target variable used for prediction. I will be predicting two classes, HIGH vs LOW salary.\n",
    "\n",
    "While performing regression may be better, performing classification may help remove some of the noise of the extreme salaries. I chose the median as the splitting point, but we can do many different splitting points if we'd like\n"
   ]
  },
  {
   "cell_type": "code",
   "execution_count": 22,
   "metadata": {},
   "outputs": [
    {
     "data": {
      "text/plain": [
       "0    0.500463\n",
       "1    0.499537\n",
       "Name: Salary_Class, dtype: float64"
      ]
     },
     "execution_count": 22,
     "metadata": {},
     "output_type": "execute_result"
    }
   ],
   "source": [
    "# Creating a new column that shows 1 if salary is above median, and 0 if below. So, HIGH = 1, LOW = 0\n",
    "median = df.Salary.median()\n",
    "\n",
    "df['Salary_Class'] = df.Salary.map(lambda x: 1 if x > median else 0)\n",
    "\n",
    "# The baseline for this code is 50%. This is the result we would get if we guessed LOW for each item (i.e. pure chance)\n",
    "df.Salary_Class.value_counts(normalize=True)"
   ]
  },
  {
   "cell_type": "code",
   "execution_count": 23,
   "metadata": {},
   "outputs": [],
   "source": [
    "df.reset_index(drop=True, inplace=True)"
   ]
  },
  {
   "cell_type": "markdown",
   "metadata": {},
   "source": [
    "### __2) Feature Engineering and Dummification__\n",
    "\n",
    "Now that we have our input data ready, let us begin modelling. We will be using a logistic regression and decision tree to try and predict HIGH vs LOW. Additionally, we are also going to do some feature engineering. "
   ]
  },
  {
   "cell_type": "code",
   "execution_count": 26,
   "metadata": {},
   "outputs": [
    {
     "data": {
      "text/html": [
       "<div>\n",
       "<style scoped>\n",
       "    .dataframe tbody tr th:only-of-type {\n",
       "        vertical-align: middle;\n",
       "    }\n",
       "\n",
       "    .dataframe tbody tr th {\n",
       "        vertical-align: top;\n",
       "    }\n",
       "\n",
       "    .dataframe thead th {\n",
       "        text-align: right;\n",
       "    }\n",
       "</style>\n",
       "<table border=\"1\" class=\"dataframe\">\n",
       "  <thead>\n",
       "    <tr style=\"text-align: right;\">\n",
       "      <th></th>\n",
       "      <th>Location</th>\n",
       "      <th>Title</th>\n",
       "      <th>Company</th>\n",
       "      <th>Salary</th>\n",
       "      <th>Description</th>\n",
       "      <th>City</th>\n",
       "      <th>jobs</th>\n",
       "      <th>Salary_Class</th>\n",
       "      <th>key_word_title</th>\n",
       "      <th>key_word_description</th>\n",
       "    </tr>\n",
       "  </thead>\n",
       "  <tbody>\n",
       "    <tr>\n",
       "      <th>0</th>\n",
       "      <td>Exeter</td>\n",
       "      <td>Graduate Operational Management Programme</td>\n",
       "      <td>South West Water</td>\n",
       "      <td>25000.0</td>\n",
       "      <td>Joining us on a full-time, permanent basis, yo...</td>\n",
       "      <td>Exeter</td>\n",
       "      <td>business+intelligence</td>\n",
       "      <td>0</td>\n",
       "      <td>0</td>\n",
       "      <td>0</td>\n",
       "    </tr>\n",
       "    <tr>\n",
       "      <th>1</th>\n",
       "      <td>Exeter EX2 7HR</td>\n",
       "      <td>Graduate Operational Management Programme</td>\n",
       "      <td>Graduate</td>\n",
       "      <td>25000.0</td>\n",
       "      <td>Joining us on a full-time, permanent basis, yo...</td>\n",
       "      <td>Exeter</td>\n",
       "      <td>business+intelligence</td>\n",
       "      <td>0</td>\n",
       "      <td>0</td>\n",
       "      <td>0</td>\n",
       "    </tr>\n",
       "    <tr>\n",
       "      <th>2</th>\n",
       "      <td>Exeter</td>\n",
       "      <td>Junior Project Manager</td>\n",
       "      <td>OfficeLabs</td>\n",
       "      <td>31500.0</td>\n",
       "      <td>OfficeLabs are an information management &amp; tec...</td>\n",
       "      <td>Exeter</td>\n",
       "      <td>business+intelligence</td>\n",
       "      <td>0</td>\n",
       "      <td>1</td>\n",
       "      <td>0</td>\n",
       "    </tr>\n",
       "    <tr>\n",
       "      <th>3</th>\n",
       "      <td>Exeter</td>\n",
       "      <td>Business Development Manager</td>\n",
       "      <td>YTKO Ltd</td>\n",
       "      <td>51000.0</td>\n",
       "      <td>Business development: 4 years (Preferred).\\nYo...</td>\n",
       "      <td>Exeter</td>\n",
       "      <td>business+intelligence</td>\n",
       "      <td>1</td>\n",
       "      <td>1</td>\n",
       "      <td>0</td>\n",
       "    </tr>\n",
       "    <tr>\n",
       "      <th>4</th>\n",
       "      <td>Buckfastleigh</td>\n",
       "      <td>Chief Executive</td>\n",
       "      <td>Go Beyond Charity</td>\n",
       "      <td>57500.0</td>\n",
       "      <td>Excellent communicator with high degree of emo...</td>\n",
       "      <td>Exeter</td>\n",
       "      <td>business+intelligence</td>\n",
       "      <td>1</td>\n",
       "      <td>1</td>\n",
       "      <td>0</td>\n",
       "    </tr>\n",
       "  </tbody>\n",
       "</table>\n",
       "</div>"
      ],
      "text/plain": [
       "         Location                                      Title  \\\n",
       "0          Exeter  Graduate Operational Management Programme   \n",
       "1  Exeter EX2 7HR  Graduate Operational Management Programme   \n",
       "2          Exeter                     Junior Project Manager   \n",
       "3          Exeter               Business Development Manager   \n",
       "4   Buckfastleigh                            Chief Executive   \n",
       "\n",
       "             Company   Salary  \\\n",
       "0   South West Water  25000.0   \n",
       "1           Graduate  25000.0   \n",
       "2         OfficeLabs  31500.0   \n",
       "3           YTKO Ltd  51000.0   \n",
       "4  Go Beyond Charity  57500.0   \n",
       "\n",
       "                                         Description    City  \\\n",
       "0  Joining us on a full-time, permanent basis, yo...  Exeter   \n",
       "1  Joining us on a full-time, permanent basis, yo...  Exeter   \n",
       "2  OfficeLabs are an information management & tec...  Exeter   \n",
       "3  Business development: 4 years (Preferred).\\nYo...  Exeter   \n",
       "4  Excellent communicator with high degree of emo...  Exeter   \n",
       "\n",
       "                    jobs  Salary_Class  key_word_title  key_word_description  \n",
       "0  business+intelligence             0               0                     0  \n",
       "1  business+intelligence             0               0                     0  \n",
       "2  business+intelligence             0               1                     0  \n",
       "3  business+intelligence             1               1                     0  \n",
       "4  business+intelligence             1               1                     0  "
      ]
     },
     "execution_count": 26,
     "metadata": {},
     "output_type": "execute_result"
    }
   ],
   "source": [
    "# Let us create a new column that indicates if there is a key word in the title description that could indicate a high salary\n",
    "def word_match_title(string):\n",
    "    words_title = ['senior', 'officer', 'executive', 'manager', 'director']\n",
    "    count = 0\n",
    "    for char in string.split():\n",
    "        if char.lower() in words_title:\n",
    "            count+=1\n",
    "    if count > 0:\n",
    "        return 1\n",
    "    else:\n",
    "        return 0\n",
    "\n",
    "df['key_word_title'] = df.Title.map(lambda x: word_match_title(x))\n",
    "\n",
    "# Now let us create a feature that indicates if certain words that could indicate a higher salary are in the description of the job\n",
    "def word_match_description(string):\n",
    "    description_words = ['growth', 'independent', 'high-paced', 'experienced', 'leader']\n",
    "    count = 0\n",
    "    for char in string.split():\n",
    "        if char.lower() in description_words:\n",
    "            count+=1\n",
    "    if count > 0:\n",
    "        return 1\n",
    "    else:\n",
    "        return 0\n",
    "\n",
    "df['key_word_description'] = df.Description.map(lambda x: word_match_description(x))\n",
    "\n",
    "df.head()"
   ]
  },
  {
   "cell_type": "code",
   "execution_count": 27,
   "metadata": {},
   "outputs": [
    {
     "name": "stdout",
     "output_type": "stream",
     "text": [
      "This is the shape for our X train: (21613, 1090)\n",
      "This is the shape for our X test: (5404, 1090)\n",
      "This is the shape for our y train: (21613,)\n",
      "This is the shape for our y test: (5404,)\n"
     ]
    }
   ],
   "source": [
    "# Now, let us create our new dataframe with only the columns that we want\n",
    "df2 = df[['Location','jobs','key_word_title','key_word_description']]\n",
    "target = df['Salary_Class']\n",
    "\n",
    "X_train, X_test, y_train, y_test = train_test_split(df2, target, test_size = 0.2)\n",
    "\n",
    "# Now, let us dummify the City and jobs variables.\n",
    "X_train = pd.get_dummies(X_train, columns=['jobs'], drop_first=True)\n",
    "X_test = pd.get_dummies(X_test, columns=['jobs'], drop_first=True)\n",
    "\n",
    "# Vectorizing the location data\n",
    "tvec = TfidfVectorizer(norm='l2', stop_words='english', max_features=10000)\n",
    "tvec.fit(X_train['Location'])\n",
    "\n",
    "location_vectorized_2 = pd.DataFrame(tvec.transform(X_train.Location).toarray(), columns=tvec.get_feature_names())\n",
    "location_vectorized_test_2 = pd.DataFrame(tvec.transform(X_test.Location).toarray(), columns=tvec.get_feature_names())\n",
    "\n",
    "X_train = pd.concat([X_train.reset_index(drop=True), location_vectorized_2], axis=1).drop('Location', axis=1)\n",
    "X_test = pd.concat([X_test.reset_index(drop=True), location_vectorized_test_2], axis=1).drop('Location', axis=1)\n",
    "\n",
    "# checking shapes\n",
    "print('This is the shape for our X train: {}'.format(X_train.shape))\n",
    "print('This is the shape for our X test: {}'.format(X_test.shape))\n",
    "print('This is the shape for our y train: {}'.format(y_train.shape))\n",
    "print('This is the shape for our y test: {}'.format(y_test.shape))"
   ]
  },
  {
   "cell_type": "markdown",
   "metadata": {},
   "source": [
    "### __3) Modelling__"
   ]
  },
  {
   "cell_type": "markdown",
   "metadata": {},
   "source": [
    "Logistic Regression with GridSearch"
   ]
  },
  {
   "cell_type": "code",
   "execution_count": 28,
   "metadata": {},
   "outputs": [
    {
     "name": "stdout",
     "output_type": "stream",
     "text": [
      "Fitting 5 folds for each of 18 candidates, totalling 90 fits\n"
     ]
    },
    {
     "data": {
      "text/plain": [
       "GridSearchCV(cv=5, estimator=LogisticRegression(), n_jobs=2,\n",
       "             param_grid={'C': array([1.e-04, 1.e-03, 1.e-02, 1.e-01, 1.e+00, 1.e+01, 1.e+02, 1.e+03,\n",
       "       1.e+04]),\n",
       "                         'penalty': ['l1', 'l2'], 'solver': ['liblinear']},\n",
       "             verbose=1)"
      ]
     },
     "execution_count": 28,
     "metadata": {},
     "output_type": "execute_result"
    }
   ],
   "source": [
    "lr = LogisticRegression()\n",
    "params = {'penalty': ['l1', 'l2'],\n",
    "                   'solver': ['liblinear'],\n",
    "                   'C': np.logspace(-4, 4, 9)}\n",
    "gs = GridSearchCV(lr, params, cv=5, n_jobs=2, verbose=1)\n",
    "\n",
    "gs.fit(X_train, y_train)"
   ]
  },
  {
   "cell_type": "code",
   "execution_count": 31,
   "metadata": {},
   "outputs": [
    {
     "name": "stdout",
     "output_type": "stream",
     "text": [
      "These are the best parameters: {'C': 10.0, 'penalty': 'l2', 'solver': 'liblinear'}\n",
      "This is the best score: 0.8150649491334996\n",
      "This is the test score: 0.8073649148778682\n"
     ]
    }
   ],
   "source": [
    "best_lr = gs.best_estimator_\n",
    "print('These are the best parameters: {}'.format(gs.best_params_))\n",
    "print('This is the best score: {}'.format(gs.best_score_))\n",
    "print('This is the test score: {}'.format(gs.score(X_test, y_test)))"
   ]
  },
  {
   "cell_type": "markdown",
   "metadata": {},
   "source": [
    "Decision Tree Ensemble Model with GridSearch"
   ]
  },
  {
   "cell_type": "code",
   "execution_count": 30,
   "metadata": {},
   "outputs": [
    {
     "name": "stdout",
     "output_type": "stream",
     "text": [
      "Fitting 5 folds for each of 4 candidates, totalling 20 fits\n"
     ]
    },
    {
     "data": {
      "text/plain": [
       "GridSearchCV(cv=5,\n",
       "             estimator=BaggingClassifier(base_estimator=DecisionTreeClassifier()),\n",
       "             n_jobs=2,\n",
       "             param_grid={'max_features': [0.5], 'max_samples': [0.5],\n",
       "                         'n_estimators': [15, 20, 25, 30]},\n",
       "             verbose=1)"
      ]
     },
     "execution_count": 30,
     "metadata": {},
     "output_type": "execute_result"
    }
   ],
   "source": [
    "tree = DecisionTreeClassifier()\n",
    "bagging = BaggingClassifier(base_estimator=tree)\n",
    "params = {'n_estimators': [15, 20, 25, 30], 'max_features': [0.5],'max_samples': [0.5] }\n",
    "gs_2 = GridSearchCV(bagging, params, cv=5, n_jobs=2, verbose=1)\n",
    "\n",
    "gs_2.fit(X_train, y_train)"
   ]
  },
  {
   "cell_type": "code",
   "execution_count": 33,
   "metadata": {},
   "outputs": [
    {
     "name": "stdout",
     "output_type": "stream",
     "text": [
      "This is the training score: 0.884051265442095\n",
      "This is the testing score: 0.8630643967431533\n"
     ]
    }
   ],
   "source": [
    "best_dt = gs_2.best_estimator_\n",
    "print('This is the training score: {}'.format(gs_2.score(X_train, y_train)))\n",
    "print('This is the testing score: {}'.format(gs_2.score(X_test, y_test)))"
   ]
  },
  {
   "cell_type": "markdown",
   "metadata": {},
   "source": [
    "The decision tree ensemble method was cleary the best performing model of the two I tried"
   ]
  },
  {
   "cell_type": "markdown",
   "metadata": {},
   "source": [
    "### __4) Model Evaluation__\n",
    "\n",
    "My (fictitious) boss would rather tell a client incorrectly that they would get a lower salary job than tell a client incorrectly that they would get a high salary job. Luckily for him, we can easily adjust the threshold of what our model predicts!\n",
    "\n",
    "In addition to this, I will also use the below methods for evaluation\n",
    "\n",
    "- Evaluate the accuracy, AUC, precision and recall of the models.\n",
    "- Plot the ROC and precision-recall curves for at least one of your models."
   ]
  },
  {
   "cell_type": "markdown",
   "metadata": {},
   "source": [
    "#### Adjusting Threshold\n",
    "\n",
    "In order to ease the mind of our boss, we can simply leverage our model to predict the probability of a high salary and then determine our own threshold. For example, if we set a threshold of 0.75, only the values that our model believes have a higher than 75% of being a high salary will be labelled as high salary. \n",
    "\n",
    "If we increase our threshold, we will consistenly be increasing the precision of our model. This means, the ones that we predict to be high salary will most likely actually result in a high salary. We can get a precision of 1 if we really want to by just continuously increasing our threshold. However, this comes at a cost. Increasing the threshold will at some point reduce the accuracy of our model and lead to incorrect predicitons. It will also reduce our recall and the F1-Score\n",
    "\n",
    "In order to ease his mind, we can just run the below code on any prediction that a model generates."
   ]
  },
  {
   "cell_type": "code",
   "execution_count": 35,
   "metadata": {},
   "outputs": [],
   "source": [
    "def threshold_manual(x, threshold = 0.5):\n",
    "    if x >= threshold:\n",
    "        return 1\n",
    "    else:\n",
    "        return 0\n",
    "\n",
    "predict_prob = pd.DataFrame(best_lr.predict_proba(X_test), columns=['Low_Salary_PP', 'High_Salary_PP'])\n",
    "predict_class = predict_prob.High_Salary_PP.apply(threshold_manual, threshold=0.75) # adjust the threshold how you'd like"
   ]
  },
  {
   "cell_type": "markdown",
   "metadata": {},
   "source": [
    "#### Classification Reports to see Accuracy, Precision, and Recall"
   ]
  },
  {
   "cell_type": "code",
   "execution_count": 36,
   "metadata": {},
   "outputs": [
    {
     "name": "stdout",
     "output_type": "stream",
     "text": [
      "              precision    recall  f1-score   support\n",
      "\n",
      "           0     0.8393    0.7660    0.8010      2735\n",
      "           1     0.7799    0.8498    0.8133      2669\n",
      "\n",
      "    accuracy                         0.8074      5404\n",
      "   macro avg     0.8096    0.8079    0.8072      5404\n",
      "weighted avg     0.8100    0.8074    0.8071      5404\n",
      "\n",
      "              precision    recall  f1-score   support\n",
      "\n",
      "           0     0.9090    0.8106    0.8570      2735\n",
      "           1     0.8253    0.9168    0.8687      2669\n",
      "\n",
      "    accuracy                         0.8631      5404\n",
      "   macro avg     0.8671    0.8637    0.8628      5404\n",
      "weighted avg     0.8676    0.8631    0.8627      5404\n",
      "\n",
      "This is the AUC score for the Logistic Regression Model: 0.807876403393831\n",
      "This is the AUC score for the Decision Tree Model: 0.8637130353719289\n"
     ]
    }
   ],
   "source": [
    "lr_predict = best_lr.predict(X_test)\n",
    "dt_predict = best_dt.predict(X_test)\n",
    "\n",
    "print(classification_report(y_test, lr_predict, digits=4))\n",
    "print(classification_report(y_test, dt_predict, digits=4))\n",
    "\n",
    "print('This is the AUC score for the Logistic Regression Model: {}'.format(roc_auc_score(y_test, lr_predict)))\n",
    "print('This is the AUC score for the Decision Tree Model: {}'.format(roc_auc_score(y_test, dt_predict)))"
   ]
  },
  {
   "cell_type": "markdown",
   "metadata": {},
   "source": [
    "#### Precision Recall and ROC Curve for our Decision Tree Model"
   ]
  },
  {
   "cell_type": "code",
   "execution_count": 37,
   "metadata": {},
   "outputs": [
    {
     "data": {
      "image/png": "[encoded data removed]",
      "text/plain": [
       "<Figure size 1440x720 with 2 Axes>"
      ]
     },
     "metadata": {
      "needs_background": "light"
     },
     "output_type": "display_data"
    },
    {
     "data": {
      "image/png": "[encoded data removed]",
      "text/plain": [
       "<Figure size 1080x1080 with 2 Axes>"
      ]
     },
     "metadata": {
      "needs_background": "light"
     },
     "output_type": "display_data"
    }
   ],
   "source": [
    "fig, ax = plt.subplots(nrows = 1, ncols=2, figsize=(20, 10))\n",
    "plot_roc_curve(best_dt, X_test, y_test, ax=ax[0])\n",
    "plot_precision_recall_curve(best_dt, X_test, y_test, ax=ax[1])\n",
    "plt.show()\n",
    "\n",
    "fig, ax = plt.subplots(figsize=(15, 15))\n",
    "plot_confusion_matrix(best_dt, X_train, y_train, cmap='Blues', labels=[1, 0], values_format='.0f', ax=ax)\n",
    "plt.show()"
   ]
  },
  {
   "cell_type": "code",
   "execution_count": null,
   "metadata": {},
   "outputs": [],
   "source": []
  }
 ],
 "metadata": {
  "interpreter": {
   "hash": "34c9195b29ba335cc15c6ba9f1104545fe6ec3b7c813b513b646c212ee0c54d1"
  },
  "kernelspec": {
   "display_name": "Python 3.8.8 ('base')",
   "language": "python",
   "name": "python3"
  },
  "language_info": {
   "codemirror_mode": {
    "name": "ipython",
    "version": 3
   },
   "file_extension": ".py",
   "mimetype": "text/x-python",
   "name": "python",
   "nbconvert_exporter": "python",
   "pygments_lexer": "ipython3",
   "version": "3.8.8"
  },
  "orig_nbformat": 4
 },
 "nbformat": 4,
 "nbformat_minor": 2
}
